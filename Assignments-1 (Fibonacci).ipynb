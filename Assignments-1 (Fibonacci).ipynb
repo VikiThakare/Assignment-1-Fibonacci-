{
 "cells": [
  {
   "cell_type": "code",
   "execution_count": 17,
   "id": "834dab6c",
   "metadata": {},
   "outputs": [
    {
     "name": "stdout",
     "output_type": "stream",
     "text": [
      "1 1 2 3 5 8 13 21 34 "
     ]
    }
   ],
   "source": [
    "# Write a Python program to get the Fibonacci series between 0 to 50\n",
    "\n",
    "n = 50\n",
    "n1 = 0\n",
    "n2 = 1\n",
    "print(n2,end=\" \")\n",
    "for i in range (n2,n):\n",
    "    n3 = n1 + n2\n",
    "    if n3 <= n:\n",
    "        print (n3, end=\" \")\n",
    "    n1=n2\n",
    "    n2=n3"
   ]
  }
 ],
 "metadata": {
  "kernelspec": {
   "display_name": "Python 3 (ipykernel)",
   "language": "python",
   "name": "python3"
  },
  "language_info": {
   "codemirror_mode": {
    "name": "ipython",
    "version": 3
   },
   "file_extension": ".py",
   "mimetype": "text/x-python",
   "name": "python",
   "nbconvert_exporter": "python",
   "pygments_lexer": "ipython3",
   "version": "3.10.9"
  }
 },
 "nbformat": 4,
 "nbformat_minor": 5
}
